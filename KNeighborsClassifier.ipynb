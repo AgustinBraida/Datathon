{
 "cells": [
  {
   "cell_type": "markdown",
   "metadata": {},
   "source": [
    "Cargamos las librerias a utilizar."
   ]
  },
  {
   "cell_type": "code",
   "execution_count": 1,
   "metadata": {},
   "outputs": [],
   "source": [
    "import pandas as pd\n",
    "import numpy as np\n",
    "import matplotlib.pyplot as plt"
   ]
  },
  {
   "cell_type": "markdown",
   "metadata": {},
   "source": [
    "Importamos los datos."
   ]
  },
  {
   "cell_type": "code",
   "execution_count": 2,
   "metadata": {},
   "outputs": [],
   "source": [
    "E_Commerce_test = pd.read_excel('E-Commerce_test.xlsx')\n",
    "E_Commerce_train = pd.read_excel('E-Commerce_train.xlsx')"
   ]
  },
  {
   "cell_type": "markdown",
   "metadata": {},
   "source": [
    "Exploramos los datos"
   ]
  },
  {
   "cell_type": "markdown",
   "metadata": {},
   "source": [
    "Estudiamos como estan compuestos."
   ]
  },
  {
   "cell_type": "code",
   "execution_count": 3,
   "metadata": {},
   "outputs": [
    {
     "data": {
      "text/plain": [
       "(8999, 12)"
      ]
     },
     "execution_count": 3,
     "metadata": {},
     "output_type": "execute_result"
    }
   ],
   "source": [
    "# Qúe tamaños tienen los datos?\n",
    "E_Commerce_train.shape"
   ]
  },
  {
   "cell_type": "code",
   "execution_count": 4,
   "metadata": {},
   "outputs": [
    {
     "data": {
      "text/plain": [
       "Index(['ID', 'Warehouse_block', 'Mode_of_Shipment', 'Customer_care_calls',\n",
       "       'Customer_rating', 'Cost_of_the_Product', 'Prior_purchases',\n",
       "       'Product_importance', 'Gender', 'Discount_offered', 'Weight_in_gms',\n",
       "       'Reached.on.Time_Y.N'],\n",
       "      dtype='object')"
      ]
     },
     "execution_count": 4,
     "metadata": {},
     "output_type": "execute_result"
    }
   ],
   "source": [
    "# Cúales son sus columnas?\n",
    "E_Commerce_train.columns"
   ]
  },
  {
   "cell_type": "code",
   "execution_count": 5,
   "metadata": {},
   "outputs": [
    {
     "name": "stdout",
     "output_type": "stream",
     "text": [
      "<class 'pandas.core.frame.DataFrame'>\n",
      "RangeIndex: 8999 entries, 0 to 8998\n",
      "Data columns (total 12 columns):\n",
      " #   Column               Non-Null Count  Dtype \n",
      "---  ------               --------------  ----- \n",
      " 0   ID                   8999 non-null   int64 \n",
      " 1   Warehouse_block      8999 non-null   object\n",
      " 2   Mode_of_Shipment     8999 non-null   object\n",
      " 3   Customer_care_calls  8999 non-null   int64 \n",
      " 4   Customer_rating      8999 non-null   int64 \n",
      " 5   Cost_of_the_Product  8999 non-null   int64 \n",
      " 6   Prior_purchases      8999 non-null   int64 \n",
      " 7   Product_importance   8999 non-null   object\n",
      " 8   Gender               8999 non-null   object\n",
      " 9   Discount_offered     8999 non-null   int64 \n",
      " 10  Weight_in_gms        8999 non-null   int64 \n",
      " 11  Reached.on.Time_Y.N  8999 non-null   int64 \n",
      "dtypes: int64(8), object(4)\n",
      "memory usage: 843.8+ KB\n"
     ]
    }
   ],
   "source": [
    "# Hay valores nulos?\n",
    "E_Commerce_train.info()"
   ]
  },
  {
   "cell_type": "code",
   "execution_count": 6,
   "metadata": {},
   "outputs": [
    {
     "data": {
      "text/plain": [
       "ID                     0\n",
       "Warehouse_block        0\n",
       "Mode_of_Shipment       0\n",
       "Customer_care_calls    0\n",
       "Customer_rating        0\n",
       "Cost_of_the_Product    0\n",
       "Prior_purchases        0\n",
       "Product_importance     0\n",
       "Gender                 0\n",
       "Discount_offered       0\n",
       "Weight_in_gms          0\n",
       "Reached.on.Time_Y.N    0\n",
       "dtype: int64"
      ]
     },
     "execution_count": 6,
     "metadata": {},
     "output_type": "execute_result"
    }
   ],
   "source": [
    "# Corroboramos que no haya valores nulos.\n",
    "E_Commerce_train.isnull().sum()"
   ]
  },
  {
   "cell_type": "code",
   "execution_count": 7,
   "metadata": {},
   "outputs": [
    {
     "data": {
      "text/html": [
       "<div>\n",
       "<style scoped>\n",
       "    .dataframe tbody tr th:only-of-type {\n",
       "        vertical-align: middle;\n",
       "    }\n",
       "\n",
       "    .dataframe tbody tr th {\n",
       "        vertical-align: top;\n",
       "    }\n",
       "\n",
       "    .dataframe thead th {\n",
       "        text-align: right;\n",
       "    }\n",
       "</style>\n",
       "<table border=\"1\" class=\"dataframe\">\n",
       "  <thead>\n",
       "    <tr style=\"text-align: right;\">\n",
       "      <th></th>\n",
       "      <th>ID</th>\n",
       "      <th>Customer_care_calls</th>\n",
       "      <th>Customer_rating</th>\n",
       "      <th>Cost_of_the_Product</th>\n",
       "      <th>Prior_purchases</th>\n",
       "      <th>Discount_offered</th>\n",
       "      <th>Weight_in_gms</th>\n",
       "      <th>Reached.on.Time_Y.N</th>\n",
       "    </tr>\n",
       "  </thead>\n",
       "  <tbody>\n",
       "    <tr>\n",
       "      <th>count</th>\n",
       "      <td>8999.00000</td>\n",
       "      <td>8999.000000</td>\n",
       "      <td>8999.000000</td>\n",
       "      <td>8999.000000</td>\n",
       "      <td>8999.000000</td>\n",
       "      <td>8999.000000</td>\n",
       "      <td>8999.000000</td>\n",
       "      <td>8999.000000</td>\n",
       "    </tr>\n",
       "    <tr>\n",
       "      <th>mean</th>\n",
       "      <td>4500.00000</td>\n",
       "      <td>4.015113</td>\n",
       "      <td>2.994999</td>\n",
       "      <td>208.561507</td>\n",
       "      <td>3.511501</td>\n",
       "      <td>15.097678</td>\n",
       "      <td>3584.364596</td>\n",
       "      <td>0.635515</td>\n",
       "    </tr>\n",
       "    <tr>\n",
       "      <th>std</th>\n",
       "      <td>2597.93187</td>\n",
       "      <td>1.138934</td>\n",
       "      <td>1.413143</td>\n",
       "      <td>48.289172</td>\n",
       "      <td>1.532074</td>\n",
       "      <td>17.400040</td>\n",
       "      <td>1614.750194</td>\n",
       "      <td>0.481312</td>\n",
       "    </tr>\n",
       "    <tr>\n",
       "      <th>min</th>\n",
       "      <td>1.00000</td>\n",
       "      <td>2.000000</td>\n",
       "      <td>1.000000</td>\n",
       "      <td>96.000000</td>\n",
       "      <td>2.000000</td>\n",
       "      <td>1.000000</td>\n",
       "      <td>1001.000000</td>\n",
       "      <td>0.000000</td>\n",
       "    </tr>\n",
       "    <tr>\n",
       "      <th>25%</th>\n",
       "      <td>2250.50000</td>\n",
       "      <td>3.000000</td>\n",
       "      <td>2.000000</td>\n",
       "      <td>168.000000</td>\n",
       "      <td>3.000000</td>\n",
       "      <td>4.000000</td>\n",
       "      <td>1857.000000</td>\n",
       "      <td>0.000000</td>\n",
       "    </tr>\n",
       "    <tr>\n",
       "      <th>50%</th>\n",
       "      <td>4500.00000</td>\n",
       "      <td>4.000000</td>\n",
       "      <td>3.000000</td>\n",
       "      <td>211.000000</td>\n",
       "      <td>3.000000</td>\n",
       "      <td>8.000000</td>\n",
       "      <td>4046.000000</td>\n",
       "      <td>1.000000</td>\n",
       "    </tr>\n",
       "    <tr>\n",
       "      <th>75%</th>\n",
       "      <td>6749.50000</td>\n",
       "      <td>5.000000</td>\n",
       "      <td>4.000000</td>\n",
       "      <td>249.500000</td>\n",
       "      <td>4.000000</td>\n",
       "      <td>19.000000</td>\n",
       "      <td>4999.500000</td>\n",
       "      <td>1.000000</td>\n",
       "    </tr>\n",
       "    <tr>\n",
       "      <th>max</th>\n",
       "      <td>8999.00000</td>\n",
       "      <td>7.000000</td>\n",
       "      <td>5.000000</td>\n",
       "      <td>310.000000</td>\n",
       "      <td>10.000000</td>\n",
       "      <td>65.000000</td>\n",
       "      <td>7846.000000</td>\n",
       "      <td>1.000000</td>\n",
       "    </tr>\n",
       "  </tbody>\n",
       "</table>\n",
       "</div>"
      ],
      "text/plain": [
       "               ID  Customer_care_calls  Customer_rating  Cost_of_the_Product  \\\n",
       "count  8999.00000          8999.000000      8999.000000          8999.000000   \n",
       "mean   4500.00000             4.015113         2.994999           208.561507   \n",
       "std    2597.93187             1.138934         1.413143            48.289172   \n",
       "min       1.00000             2.000000         1.000000            96.000000   \n",
       "25%    2250.50000             3.000000         2.000000           168.000000   \n",
       "50%    4500.00000             4.000000         3.000000           211.000000   \n",
       "75%    6749.50000             5.000000         4.000000           249.500000   \n",
       "max    8999.00000             7.000000         5.000000           310.000000   \n",
       "\n",
       "       Prior_purchases  Discount_offered  Weight_in_gms  Reached.on.Time_Y.N  \n",
       "count      8999.000000       8999.000000    8999.000000          8999.000000  \n",
       "mean          3.511501         15.097678    3584.364596             0.635515  \n",
       "std           1.532074         17.400040    1614.750194             0.481312  \n",
       "min           2.000000          1.000000    1001.000000             0.000000  \n",
       "25%           3.000000          4.000000    1857.000000             0.000000  \n",
       "50%           3.000000          8.000000    4046.000000             1.000000  \n",
       "75%           4.000000         19.000000    4999.500000             1.000000  \n",
       "max          10.000000         65.000000    7846.000000             1.000000  "
      ]
     },
     "execution_count": 7,
     "metadata": {},
     "output_type": "execute_result"
    }
   ],
   "source": [
    "# Cómo se distribuyen las variables numéricas?\n",
    "# También describimos los datos a nivel estadístico.\n",
    "E_Commerce_train.describe()"
   ]
  },
  {
   "cell_type": "code",
   "execution_count": 8,
   "metadata": {},
   "outputs": [
    {
     "data": {
      "text/html": [
       "<div>\n",
       "<style scoped>\n",
       "    .dataframe tbody tr th:only-of-type {\n",
       "        vertical-align: middle;\n",
       "    }\n",
       "\n",
       "    .dataframe tbody tr th {\n",
       "        vertical-align: top;\n",
       "    }\n",
       "\n",
       "    .dataframe thead th {\n",
       "        text-align: right;\n",
       "    }\n",
       "</style>\n",
       "<table border=\"1\" class=\"dataframe\">\n",
       "  <thead>\n",
       "    <tr style=\"text-align: right;\">\n",
       "      <th></th>\n",
       "      <th>Warehouse_block</th>\n",
       "      <th>Mode_of_Shipment</th>\n",
       "      <th>Product_importance</th>\n",
       "      <th>Gender</th>\n",
       "    </tr>\n",
       "  </thead>\n",
       "  <tbody>\n",
       "    <tr>\n",
       "      <th>count</th>\n",
       "      <td>8999</td>\n",
       "      <td>8999</td>\n",
       "      <td>8999</td>\n",
       "      <td>8999</td>\n",
       "    </tr>\n",
       "    <tr>\n",
       "      <th>unique</th>\n",
       "      <td>5</td>\n",
       "      <td>3</td>\n",
       "      <td>3</td>\n",
       "      <td>2</td>\n",
       "    </tr>\n",
       "    <tr>\n",
       "      <th>top</th>\n",
       "      <td>F</td>\n",
       "      <td>Ship</td>\n",
       "      <td>low</td>\n",
       "      <td>F</td>\n",
       "    </tr>\n",
       "    <tr>\n",
       "      <th>freq</th>\n",
       "      <td>2999</td>\n",
       "      <td>6122</td>\n",
       "      <td>4308</td>\n",
       "      <td>4540</td>\n",
       "    </tr>\n",
       "  </tbody>\n",
       "</table>\n",
       "</div>"
      ],
      "text/plain": [
       "       Warehouse_block Mode_of_Shipment Product_importance Gender\n",
       "count             8999             8999               8999   8999\n",
       "unique               5                3                  3      2\n",
       "top                  F             Ship                low      F\n",
       "freq              2999             6122               4308   4540"
      ]
     },
     "execution_count": 8,
     "metadata": {},
     "output_type": "execute_result"
    }
   ],
   "source": [
    "# Cómo se distribuyen las variables categóricas?\n",
    "E_Commerce_train.describe(include=['O'])"
   ]
  },
  {
   "cell_type": "markdown",
   "metadata": {},
   "source": [
    "Estudiamos la variable target(Objetivo)\n",
    "\n",
    "La comparamos con distintas variables"
   ]
  },
  {
   "cell_type": "code",
   "execution_count": 9,
   "metadata": {},
   "outputs": [
    {
     "data": {
      "text/plain": [
       "Reached.on.Time_Y.N\n",
       "0    3280\n",
       "1    5719\n",
       "Name: ID, dtype: int64"
      ]
     },
     "execution_count": 9,
     "metadata": {},
     "output_type": "execute_result"
    }
   ],
   "source": [
    "# Productos alcanzados a tiempo vs productos que lleragon tarde.\n",
    "E_Commerce_train.groupby(['Reached.on.Time_Y.N']).count()['ID']"
   ]
  },
  {
   "cell_type": "code",
   "execution_count": 10,
   "metadata": {},
   "outputs": [
    {
     "data": {
      "image/png": "[encoded data removed]",
      "text/plain": [
       "<Figure size 432x288 with 1 Axes>"
      ]
     },
     "metadata": {
      "needs_background": "light"
     },
     "output_type": "display_data"
    }
   ],
   "source": [
    "# Verificamos si hay alguna relación en cuanto a la llegada tarde del producto con el sexo del cliente.\n",
    "group_sex = E_Commerce_train.groupby(['Reached.on.Time_Y.N', 'Gender']).count()['ID']\n",
    "group_sex.unstack(level=0).plot.bar()\n",
    "plt.show()\n",
    "# Corroboramos con un grafico y notamos que las diferencias son muy pequeñas."
   ]
  },
  {
   "cell_type": "code",
   "execution_count": 11,
   "metadata": {},
   "outputs": [
    {
     "data": {
      "image/png": "[encoded data removed]",
      "text/plain": [
       "<Figure size 432x288 with 1 Axes>"
      ]
     },
     "metadata": {
      "needs_background": "light"
     },
     "output_type": "display_data"
    }
   ],
   "source": [
    "# Verificamos si hay alguna relación en cuanto al tipo de entrega.\n",
    "group_mode_shipment = E_Commerce_train.groupby(['Reached.on.Time_Y.N', 'Mode_of_Shipment']).count()['ID']\n",
    "group_mode_shipment.unstack(level=0).plot.bar()\n",
    "plt.show()\n",
    "# Podemos apreciar que en barco, la entrega se atrasa con respecto a las demas entregas."
   ]
  },
  {
   "cell_type": "code",
   "execution_count": 12,
   "metadata": {},
   "outputs": [
    {
     "data": {
      "image/png": "[encoded data removed]",
      "text/plain": [
       "<Figure size 432x288 with 1 Axes>"
      ]
     },
     "metadata": {
      "needs_background": "light"
     },
     "output_type": "display_data"
    }
   ],
   "source": [
    "# Verificamos si hay alguna relación en cuanto a la importancia del producto.\n",
    "group_importance = E_Commerce_train.groupby(['Reached.on.Time_Y.N', 'Product_importance']).count()['ID']\n",
    "group_importance.unstack(level=0).plot.bar()\n",
    "plt.show()\n",
    "# Podemos apreciar que los productos con media y baja importacia, suelen tener una demora en la entrega."
   ]
  },
  {
   "cell_type": "code",
   "execution_count": 13,
   "metadata": {},
   "outputs": [
    {
     "data": {
      "image/png": "[encoded data removed]",
      "text/plain": [
       "<Figure size 432x288 with 1 Axes>"
      ]
     },
     "metadata": {
      "needs_background": "light"
     },
     "output_type": "display_data"
    }
   ],
   "source": [
    "# Verificamos si hay alguna relación con el Bloque de Almacen.\n",
    "group_Warehouse = E_Commerce_train.groupby(['Reached.on.Time_Y.N', 'Warehouse_block']).count()['ID']\n",
    "group_Warehouse.unstack(level=0).plot.bar()\n",
    "plt.show()\n",
    "# Podemos notar que en los bloques de Almacenes de categoria F, la entrega se demora."
   ]
  },
  {
   "cell_type": "markdown",
   "metadata": {},
   "source": [
    "PROCESAMIENTO DE LOS DATOS\n",
    "\n",
    "Selecciono las variables que creo que son las adecuadas para para luego implementar mi modeo de Machine Learning."
   ]
  },
  {
   "cell_type": "markdown",
   "metadata": {},
   "source": [
    "\t1) Warehouse_block\n",
    "\t2) Mode_of_Shipment\n",
    "\t3) Product_importance\n",
    "\t4) Reached.on.Time_Y.N"
   ]
  },
  {
   "cell_type": "code",
   "execution_count": 14,
   "metadata": {},
   "outputs": [
    {
     "data": {
      "text/html": [
       "<div>\n",
       "<style scoped>\n",
       "    .dataframe tbody tr th:only-of-type {\n",
       "        vertical-align: middle;\n",
       "    }\n",
       "\n",
       "    .dataframe tbody tr th {\n",
       "        vertical-align: top;\n",
       "    }\n",
       "\n",
       "    .dataframe thead th {\n",
       "        text-align: right;\n",
       "    }\n",
       "</style>\n",
       "<table border=\"1\" class=\"dataframe\">\n",
       "  <thead>\n",
       "    <tr style=\"text-align: right;\">\n",
       "      <th></th>\n",
       "      <th>Warehouse_block</th>\n",
       "      <th>Mode_of_Shipment</th>\n",
       "      <th>Product_importance</th>\n",
       "      <th>Reached.on.Time_Y.N</th>\n",
       "    </tr>\n",
       "  </thead>\n",
       "  <tbody>\n",
       "    <tr>\n",
       "      <th>0</th>\n",
       "      <td>D</td>\n",
       "      <td>Flight</td>\n",
       "      <td>low</td>\n",
       "      <td>1</td>\n",
       "    </tr>\n",
       "    <tr>\n",
       "      <th>1</th>\n",
       "      <td>F</td>\n",
       "      <td>Flight</td>\n",
       "      <td>low</td>\n",
       "      <td>1</td>\n",
       "    </tr>\n",
       "    <tr>\n",
       "      <th>2</th>\n",
       "      <td>A</td>\n",
       "      <td>Flight</td>\n",
       "      <td>low</td>\n",
       "      <td>1</td>\n",
       "    </tr>\n",
       "    <tr>\n",
       "      <th>3</th>\n",
       "      <td>B</td>\n",
       "      <td>Flight</td>\n",
       "      <td>medium</td>\n",
       "      <td>1</td>\n",
       "    </tr>\n",
       "    <tr>\n",
       "      <th>4</th>\n",
       "      <td>C</td>\n",
       "      <td>Flight</td>\n",
       "      <td>medium</td>\n",
       "      <td>1</td>\n",
       "    </tr>\n",
       "  </tbody>\n",
       "</table>\n",
       "</div>"
      ],
      "text/plain": [
       "  Warehouse_block Mode_of_Shipment Product_importance  Reached.on.Time_Y.N\n",
       "0               D           Flight                low                    1\n",
       "1               F           Flight                low                    1\n",
       "2               A           Flight                low                    1\n",
       "3               B           Flight             medium                    1\n",
       "4               C           Flight             medium                    1"
      ]
     },
     "execution_count": 14,
     "metadata": {},
     "output_type": "execute_result"
    }
   ],
   "source": [
    "df_final = E_Commerce_train[['Warehouse_block', 'Mode_of_Shipment', 'Product_importance', 'Reached.on.Time_Y.N' ]]\n",
    "df_final.head()"
   ]
  },
  {
   "cell_type": "code",
   "execution_count": 15,
   "metadata": {},
   "outputs": [
    {
     "data": {
      "text/plain": [
       "Warehouse_block        0\n",
       "Mode_of_Shipment       0\n",
       "Product_importance     0\n",
       "Reached.on.Time_Y.N    0\n",
       "dtype: int64"
      ]
     },
     "execution_count": 15,
     "metadata": {},
     "output_type": "execute_result"
    }
   ],
   "source": [
    "# Volvemos a corroborar que no hayamos pasado por alto algun valor nulo.\n",
    "df_final.isnull().sum()"
   ]
  },
  {
   "cell_type": "code",
   "execution_count": 16,
   "metadata": {},
   "outputs": [
    {
     "name": "stdout",
     "output_type": "stream",
     "text": [
      "<class 'pandas.core.frame.DataFrame'>\n",
      "RangeIndex: 8999 entries, 0 to 8998\n",
      "Data columns (total 4 columns):\n",
      " #   Column               Non-Null Count  Dtype \n",
      "---  ------               --------------  ----- \n",
      " 0   Warehouse_block      8999 non-null   object\n",
      " 1   Mode_of_Shipment     8999 non-null   object\n",
      " 2   Product_importance   8999 non-null   object\n",
      " 3   Reached.on.Time_Y.N  8999 non-null   int64 \n",
      "dtypes: int64(1), object(3)\n",
      "memory usage: 281.3+ KB\n"
     ]
    }
   ],
   "source": [
    "# Observamos de que tipo son las variables.\n",
    "df_final.info()\n",
    "# Modificaremos las variables de tipo object y las pasaremos a int o float."
   ]
  },
  {
   "cell_type": "code",
   "execution_count": 17,
   "metadata": {},
   "outputs": [
    {
     "name": "stderr",
     "output_type": "stream",
     "text": [
      "C:\\Users\\agust\\AppData\\Local\\Temp\\ipykernel_18648\\1658130110.py:2: SettingWithCopyWarning: \n",
      "A value is trying to be set on a copy of a slice from a DataFrame.\n",
      "Try using .loc[row_indexer,col_indexer] = value instead\n",
      "\n",
      "See the caveats in the documentation: https://pandas.pydata.org/pandas-docs/stable/user_guide/indexing.html#returning-a-view-versus-a-copy\n",
      "  df_final['Warehouse_block'] = df_final['Warehouse_block'].astype('category')\n"
     ]
    }
   ],
   "source": [
    "# Pasamos a 'category' los datos de la variable 'Warehouse_block', para que python los interprete de manera mas adecuada.\n",
    "df_final['Warehouse_block'] = df_final['Warehouse_block'].astype('category')"
   ]
  },
  {
   "cell_type": "code",
   "execution_count": 18,
   "metadata": {},
   "outputs": [
    {
     "name": "stderr",
     "output_type": "stream",
     "text": [
      "C:\\Users\\agust\\AppData\\Local\\Temp\\ipykernel_18648\\2028774072.py:2: SettingWithCopyWarning: \n",
      "A value is trying to be set on a copy of a slice from a DataFrame.\n",
      "Try using .loc[row_indexer,col_indexer] = value instead\n",
      "\n",
      "See the caveats in the documentation: https://pandas.pydata.org/pandas-docs/stable/user_guide/indexing.html#returning-a-view-versus-a-copy\n",
      "  df_final['Mode_of_Shipment'] = df_final['Mode_of_Shipment'].astype('category')\n"
     ]
    }
   ],
   "source": [
    "# Pasamos a 'category' los datos de la variable 'Mode_of_Shipment', para que python los interprete de manera mas adecuada.\n",
    "df_final['Mode_of_Shipment'] = df_final['Mode_of_Shipment'].astype('category')\n"
   ]
  },
  {
   "cell_type": "code",
   "execution_count": 19,
   "metadata": {},
   "outputs": [
    {
     "name": "stderr",
     "output_type": "stream",
     "text": [
      "C:\\Users\\agust\\AppData\\Local\\Temp\\ipykernel_18648\\229672011.py:2: SettingWithCopyWarning: \n",
      "A value is trying to be set on a copy of a slice from a DataFrame.\n",
      "Try using .loc[row_indexer,col_indexer] = value instead\n",
      "\n",
      "See the caveats in the documentation: https://pandas.pydata.org/pandas-docs/stable/user_guide/indexing.html#returning-a-view-versus-a-copy\n",
      "  df_final['Product_importance'] = df_final['Product_importance'].astype('category')\n"
     ]
    }
   ],
   "source": [
    "# Pasamos a 'category' los datos de la variable 'Product_importance', para que python los interprete de manera mas adecuada.\n",
    "df_final['Product_importance'] = df_final['Product_importance'].astype('category')"
   ]
  },
  {
   "cell_type": "code",
   "execution_count": 20,
   "metadata": {},
   "outputs": [
    {
     "name": "stdout",
     "output_type": "stream",
     "text": [
      "<class 'pandas.core.frame.DataFrame'>\n",
      "RangeIndex: 8999 entries, 0 to 8998\n",
      "Data columns (total 4 columns):\n",
      " #   Column               Non-Null Count  Dtype   \n",
      "---  ------               --------------  -----   \n",
      " 0   Warehouse_block      8999 non-null   category\n",
      " 1   Mode_of_Shipment     8999 non-null   category\n",
      " 2   Product_importance   8999 non-null   category\n",
      " 3   Reached.on.Time_Y.N  8999 non-null   int64   \n",
      "dtypes: category(3), int64(1)\n",
      "memory usage: 97.3 KB\n"
     ]
    }
   ],
   "source": [
    "# Volvemos a observar de que tipo son ahora las variables.\n",
    "df_final.info()"
   ]
  },
  {
   "cell_type": "markdown",
   "metadata": {},
   "source": [
    "Codificación de variables utilizando One-Hot"
   ]
  },
  {
   "cell_type": "code",
   "execution_count": 21,
   "metadata": {},
   "outputs": [],
   "source": [
    "# Importamos la libreria\n",
    "from sklearn.preprocessing import OneHotEncoder\n",
    "\n",
    "codificador = OneHotEncoder()\n",
    "codificador_1 = OneHotEncoder()\n",
    "codificador_2 = OneHotEncoder()\n",
    "\n",
    "codificacion = codificador.fit_transform(df_final[['Warehouse_block']])\n",
    "codificacion_1 = codificador_1.fit_transform(df_final[['Mode_of_Shipment']])\n",
    "codificacion_2 = codificador_2.fit_transform(df_final[['Product_importance']])"
   ]
  },
  {
   "cell_type": "code",
   "execution_count": 22,
   "metadata": {},
   "outputs": [],
   "source": [
    "# Creamos el DataFrame codificado.\n",
    "col_mode_of_Shipment = pd.DataFrame(codificacion_1.toarray(), columns = codificador_1.categories_)\n",
    "col_Warehouse_block = pd.DataFrame(codificacion.toarray(), columns = codificador.categories_)\n",
    "col_Product_importance = pd.DataFrame(codificacion_2.toarray(), columns = codificador_2.categories_)"
   ]
  },
  {
   "cell_type": "markdown",
   "metadata": {},
   "source": [
    "Ahora debemos concatenar los DataFrame a la tabla que vamos a usar y luego eliminamos las columnas categoricas."
   ]
  },
  {
   "cell_type": "code",
   "execution_count": 23,
   "metadata": {},
   "outputs": [],
   "source": [
    "df_final = pd.concat([df_final, col_mode_of_Shipment], axis= 1)"
   ]
  },
  {
   "cell_type": "code",
   "execution_count": 24,
   "metadata": {},
   "outputs": [],
   "source": [
    "df_final = pd.concat([df_final, col_Warehouse_block], axis= 1)"
   ]
  },
  {
   "cell_type": "code",
   "execution_count": 25,
   "metadata": {},
   "outputs": [],
   "source": [
    "df_final = pd.concat([df_final, col_Product_importance], axis= 1)"
   ]
  },
  {
   "cell_type": "code",
   "execution_count": 26,
   "metadata": {},
   "outputs": [],
   "source": [
    "# ELiminamos las columnas categoricas.\n",
    "df_final.drop(['Warehouse_block'], axis=1, inplace=True)\n",
    "df_final.drop(['Mode_of_Shipment'], axis=1, inplace=True)\n",
    "df_final.drop(['Product_importance'], axis=1, inplace=True)"
   ]
  },
  {
   "cell_type": "code",
   "execution_count": 27,
   "metadata": {},
   "outputs": [
    {
     "data": {
      "text/html": [
       "<div>\n",
       "<style scoped>\n",
       "    .dataframe tbody tr th:only-of-type {\n",
       "        vertical-align: middle;\n",
       "    }\n",
       "\n",
       "    .dataframe tbody tr th {\n",
       "        vertical-align: top;\n",
       "    }\n",
       "\n",
       "    .dataframe thead th {\n",
       "        text-align: right;\n",
       "    }\n",
       "</style>\n",
       "<table border=\"1\" class=\"dataframe\">\n",
       "  <thead>\n",
       "    <tr style=\"text-align: right;\">\n",
       "      <th></th>\n",
       "      <th>Reached.on.Time_Y.N</th>\n",
       "      <th>(Flight,)</th>\n",
       "      <th>(Road,)</th>\n",
       "      <th>(Ship,)</th>\n",
       "      <th>(A,)</th>\n",
       "      <th>(B,)</th>\n",
       "      <th>(C,)</th>\n",
       "      <th>(D,)</th>\n",
       "      <th>(F,)</th>\n",
       "      <th>(high,)</th>\n",
       "      <th>(low,)</th>\n",
       "      <th>(medium,)</th>\n",
       "    </tr>\n",
       "  </thead>\n",
       "  <tbody>\n",
       "    <tr>\n",
       "      <th>0</th>\n",
       "      <td>1</td>\n",
       "      <td>1.0</td>\n",
       "      <td>0.0</td>\n",
       "      <td>0.0</td>\n",
       "      <td>0.0</td>\n",
       "      <td>0.0</td>\n",
       "      <td>0.0</td>\n",
       "      <td>1.0</td>\n",
       "      <td>0.0</td>\n",
       "      <td>0.0</td>\n",
       "      <td>1.0</td>\n",
       "      <td>0.0</td>\n",
       "    </tr>\n",
       "    <tr>\n",
       "      <th>1</th>\n",
       "      <td>1</td>\n",
       "      <td>1.0</td>\n",
       "      <td>0.0</td>\n",
       "      <td>0.0</td>\n",
       "      <td>0.0</td>\n",
       "      <td>0.0</td>\n",
       "      <td>0.0</td>\n",
       "      <td>0.0</td>\n",
       "      <td>1.0</td>\n",
       "      <td>0.0</td>\n",
       "      <td>1.0</td>\n",
       "      <td>0.0</td>\n",
       "    </tr>\n",
       "    <tr>\n",
       "      <th>2</th>\n",
       "      <td>1</td>\n",
       "      <td>1.0</td>\n",
       "      <td>0.0</td>\n",
       "      <td>0.0</td>\n",
       "      <td>1.0</td>\n",
       "      <td>0.0</td>\n",
       "      <td>0.0</td>\n",
       "      <td>0.0</td>\n",
       "      <td>0.0</td>\n",
       "      <td>0.0</td>\n",
       "      <td>1.0</td>\n",
       "      <td>0.0</td>\n",
       "    </tr>\n",
       "    <tr>\n",
       "      <th>3</th>\n",
       "      <td>1</td>\n",
       "      <td>1.0</td>\n",
       "      <td>0.0</td>\n",
       "      <td>0.0</td>\n",
       "      <td>0.0</td>\n",
       "      <td>1.0</td>\n",
       "      <td>0.0</td>\n",
       "      <td>0.0</td>\n",
       "      <td>0.0</td>\n",
       "      <td>0.0</td>\n",
       "      <td>0.0</td>\n",
       "      <td>1.0</td>\n",
       "    </tr>\n",
       "    <tr>\n",
       "      <th>4</th>\n",
       "      <td>1</td>\n",
       "      <td>1.0</td>\n",
       "      <td>0.0</td>\n",
       "      <td>0.0</td>\n",
       "      <td>0.0</td>\n",
       "      <td>0.0</td>\n",
       "      <td>1.0</td>\n",
       "      <td>0.0</td>\n",
       "      <td>0.0</td>\n",
       "      <td>0.0</td>\n",
       "      <td>0.0</td>\n",
       "      <td>1.0</td>\n",
       "    </tr>\n",
       "  </tbody>\n",
       "</table>\n",
       "</div>"
      ],
      "text/plain": [
       "   Reached.on.Time_Y.N  (Flight,)  (Road,)  (Ship,)  (A,)  (B,)  (C,)  (D,)  \\\n",
       "0                    1        1.0      0.0      0.0   0.0   0.0   0.0   1.0   \n",
       "1                    1        1.0      0.0      0.0   0.0   0.0   0.0   0.0   \n",
       "2                    1        1.0      0.0      0.0   1.0   0.0   0.0   0.0   \n",
       "3                    1        1.0      0.0      0.0   0.0   1.0   0.0   0.0   \n",
       "4                    1        1.0      0.0      0.0   0.0   0.0   1.0   0.0   \n",
       "\n",
       "   (F,)  (high,)  (low,)  (medium,)  \n",
       "0   0.0      0.0     1.0        0.0  \n",
       "1   1.0      0.0     1.0        0.0  \n",
       "2   0.0      0.0     1.0        0.0  \n",
       "3   0.0      0.0     0.0        1.0  \n",
       "4   0.0      0.0     0.0        1.0  "
      ]
     },
     "execution_count": 27,
     "metadata": {},
     "output_type": "execute_result"
    }
   ],
   "source": [
    "# Mostramos como quedo el DataFrame final con el que vamos a trabajar.\n",
    "df_final.head()"
   ]
  },
  {
   "cell_type": "markdown",
   "metadata": {},
   "source": [
    "Con estos datos ya podemos realizar el modelo."
   ]
  },
  {
   "cell_type": "code",
   "execution_count": 28,
   "metadata": {},
   "outputs": [],
   "source": [
    "# Definimos la variable dependiente.\n",
    "y_train = df_final['Reached.on.Time_Y.N']"
   ]
  },
  {
   "cell_type": "code",
   "execution_count": 29,
   "metadata": {},
   "outputs": [
    {
     "data": {
      "text/plain": [
       "Index(['Reached.on.Time_Y.N',           ('Flight',),             ('Road',),\n",
       "                   ('Ship',),                ('A',),                ('B',),\n",
       "                      ('C',),                ('D',),                ('F',),\n",
       "                   ('high',),              ('low',),           ('medium',)],\n",
       "      dtype='object')"
      ]
     },
     "execution_count": 29,
     "metadata": {},
     "output_type": "execute_result"
    }
   ],
   "source": [
    "df_final.columns"
   ]
  },
  {
   "cell_type": "code",
   "execution_count": 30,
   "metadata": {},
   "outputs": [],
   "source": [
    "# Preprocesamos las variables independientes.\n",
    "x_train = df_final[[('Flight',), ('Road',), ('Ship',), ('A',), ('B',), ('C',), ('D',), ('F',), ('high',), ('low',), ('medium',)]]"
   ]
  },
  {
   "cell_type": "code",
   "execution_count": 31,
   "metadata": {},
   "outputs": [
    {
     "data": {
      "text/plain": [
       "((8999,), (8999, 11))"
      ]
     },
     "execution_count": 31,
     "metadata": {},
     "output_type": "execute_result"
    }
   ],
   "source": [
    "# Corroboramos sus dimenciones.\n",
    "y_train.shape, x_train.shape"
   ]
  },
  {
   "cell_type": "markdown",
   "metadata": {},
   "source": [
    "MODELO"
   ]
  },
  {
   "cell_type": "markdown",
   "metadata": {},
   "source": [
    "## **2. Vecinos más cercanos**"
   ]
  },
  {
   "cell_type": "code",
   "execution_count": 45,
   "metadata": {},
   "outputs": [
    {
     "data": {
      "text/html": [
       "<style>#sk-container-id-2 {color: black;background-color: white;}#sk-container-id-2 pre{padding: 0;}#sk-container-id-2 div.sk-toggleable {background-color: white;}#sk-container-id-2 label.sk-toggleable__label {cursor: pointer;display: block;width: 100%;margin-bottom: 0;padding: 0.3em;box-sizing: border-box;text-align: center;}#sk-container-id-2 label.sk-toggleable__label-arrow:before {content: \"▸\";float: left;margin-right: 0.25em;color: #696969;}#sk-container-id-2 label.sk-toggleable__label-arrow:hover:before {color: black;}#sk-container-id-2 div.sk-estimator:hover label.sk-toggleable__label-arrow:before {color: black;}#sk-container-id-2 div.sk-toggleable__content {max-height: 0;max-width: 0;overflow: hidden;text-align: left;background-color: #f0f8ff;}#sk-container-id-2 div.sk-toggleable__content pre {margin: 0.2em;color: black;border-radius: 0.25em;background-color: #f0f8ff;}#sk-container-id-2 input.sk-toggleable__control:checked~div.sk-toggleable__content {max-height: 200px;max-width: 100%;overflow: auto;}#sk-container-id-2 input.sk-toggleable__control:checked~label.sk-toggleable__label-arrow:before {content: \"▾\";}#sk-container-id-2 div.sk-estimator input.sk-toggleable__control:checked~label.sk-toggleable__label {background-color: #d4ebff;}#sk-container-id-2 div.sk-label input.sk-toggleable__control:checked~label.sk-toggleable__label {background-color: #d4ebff;}#sk-container-id-2 input.sk-hidden--visually {border: 0;clip: rect(1px 1px 1px 1px);clip: rect(1px, 1px, 1px, 1px);height: 1px;margin: -1px;overflow: hidden;padding: 0;position: absolute;width: 1px;}#sk-container-id-2 div.sk-estimator {font-family: monospace;background-color: #f0f8ff;border: 1px dotted black;border-radius: 0.25em;box-sizing: border-box;margin-bottom: 0.5em;}#sk-container-id-2 div.sk-estimator:hover {background-color: #d4ebff;}#sk-container-id-2 div.sk-parallel-item::after {content: \"\";width: 100%;border-bottom: 1px solid gray;flex-grow: 1;}#sk-container-id-2 div.sk-label:hover label.sk-toggleable__label {background-color: #d4ebff;}#sk-container-id-2 div.sk-serial::before {content: \"\";position: absolute;border-left: 1px solid gray;box-sizing: border-box;top: 0;bottom: 0;left: 50%;z-index: 0;}#sk-container-id-2 div.sk-serial {display: flex;flex-direction: column;align-items: center;background-color: white;padding-right: 0.2em;padding-left: 0.2em;position: relative;}#sk-container-id-2 div.sk-item {position: relative;z-index: 1;}#sk-container-id-2 div.sk-parallel {display: flex;align-items: stretch;justify-content: center;background-color: white;position: relative;}#sk-container-id-2 div.sk-item::before, #sk-container-id-2 div.sk-parallel-item::before {content: \"\";position: absolute;border-left: 1px solid gray;box-sizing: border-box;top: 0;bottom: 0;left: 50%;z-index: -1;}#sk-container-id-2 div.sk-parallel-item {display: flex;flex-direction: column;z-index: 1;position: relative;background-color: white;}#sk-container-id-2 div.sk-parallel-item:first-child::after {align-self: flex-end;width: 50%;}#sk-container-id-2 div.sk-parallel-item:last-child::after {align-self: flex-start;width: 50%;}#sk-container-id-2 div.sk-parallel-item:only-child::after {width: 0;}#sk-container-id-2 div.sk-dashed-wrapped {border: 1px dashed gray;margin: 0 0.4em 0.5em 0.4em;box-sizing: border-box;padding-bottom: 0.4em;background-color: white;}#sk-container-id-2 div.sk-label label {font-family: monospace;font-weight: bold;display: inline-block;line-height: 1.2em;}#sk-container-id-2 div.sk-label-container {text-align: center;}#sk-container-id-2 div.sk-container {/* jupyter's `normalize.less` sets `[hidden] { display: none; }` but bootstrap.min.css set `[hidden] { display: none !important; }` so we also need the `!important` here to be able to override the default hidden behavior on the sphinx rendered scikit-learn.org. See: https://github.com/scikit-learn/scikit-learn/issues/21755 */display: inline-block !important;position: relative;}#sk-container-id-2 div.sk-text-repr-fallback {display: none;}</style><div id=\"sk-container-id-2\" class=\"sk-top-container\"><div class=\"sk-text-repr-fallback\"><pre>KNeighborsClassifier()</pre><b>In a Jupyter environment, please rerun this cell to show the HTML representation or trust the notebook. <br />On GitHub, the HTML representation is unable to render, please try loading this page with nbviewer.org.</b></div><div class=\"sk-container\" hidden><div class=\"sk-item\"><div class=\"sk-estimator sk-toggleable\"><input class=\"sk-toggleable__control sk-hidden--visually\" id=\"sk-estimator-id-2\" type=\"checkbox\" checked><label for=\"sk-estimator-id-2\" class=\"sk-toggleable__label sk-toggleable__label-arrow\">KNeighborsClassifier</label><div class=\"sk-toggleable__content\"><pre>KNeighborsClassifier()</pre></div></div></div></div></div>"
      ],
      "text/plain": [
       "KNeighborsClassifier()"
      ]
     },
     "execution_count": 45,
     "metadata": {},
     "output_type": "execute_result"
    }
   ],
   "source": [
    "# Comenzamos entrenando el modelo\n",
    "from sklearn.neighbors import KNeighborsClassifier\n",
    "\n",
    "# Instanciamos un objeto de la clase KNeighborsClassifier\n",
    "KNeigh = KNeighborsClassifier()\n",
    "\n",
    "KNeigh.fit(x_train, y_train) "
   ]
  },
  {
   "cell_type": "code",
   "execution_count": 46,
   "metadata": {},
   "outputs": [
    {
     "name": "stderr",
     "output_type": "stream",
     "text": [
      "c:\\Users\\agust\\AppData\\Local\\Programs\\Python\\Python310\\lib\\site-packages\\sklearn\\neighbors\\_classification.py:237: FutureWarning: Unlike other reduction functions (e.g. `skew`, `kurtosis`), the default behavior of `mode` typically preserves the axis it acts along. In SciPy 1.11.0, this behavior will change: the default value of `keepdims` will become False, the `axis` over which the statistic is taken will be eliminated, and the value None will no longer be accepted. Set `keepdims` to True or False to avoid this warning.\n",
      "  mode, _ = stats.mode(_y[neigh_ind, k], axis=1)\n"
     ]
    }
   ],
   "source": [
    "# Predecimos sobre nuestro set de entrenamieto\n",
    "\n",
    "y_train_pred = KNeigh.predict(x_train)"
   ]
  },
  {
   "cell_type": "markdown",
   "metadata": {},
   "source": [
    "EVALUACIÓN DEL MODELO"
   ]
  },
  {
   "cell_type": "markdown",
   "metadata": {},
   "source": [
    "### **`Exactitud`**"
   ]
  },
  {
   "cell_type": "code",
   "execution_count": 49,
   "metadata": {},
   "outputs": [
    {
     "name": "stdout",
     "output_type": "stream",
     "text": [
      "0.6355150572285809\n"
     ]
    }
   ],
   "source": [
    "from sklearn.metrics import accuracy_score\n",
    "\n",
    "exactitud = accuracy_score(y_train, y_train_pred)\n",
    "print(exactitud)"
   ]
  },
  {
   "cell_type": "markdown",
   "metadata": {},
   "source": [
    "EVALUAMOS SOBRE EL TEST\n",
    "\n",
    "Ahora vamos a crear la columna 'pred' para poder crear el archivo.csv y poder mandarlo para mirar el score que logramos."
   ]
  },
  {
   "cell_type": "code",
   "execution_count": 38,
   "metadata": {},
   "outputs": [
    {
     "data": {
      "text/html": [
       "<div>\n",
       "<style scoped>\n",
       "    .dataframe tbody tr th:only-of-type {\n",
       "        vertical-align: middle;\n",
       "    }\n",
       "\n",
       "    .dataframe tbody tr th {\n",
       "        vertical-align: top;\n",
       "    }\n",
       "\n",
       "    .dataframe thead th {\n",
       "        text-align: right;\n",
       "    }\n",
       "</style>\n",
       "<table border=\"1\" class=\"dataframe\">\n",
       "  <thead>\n",
       "    <tr style=\"text-align: right;\">\n",
       "      <th></th>\n",
       "      <th>Warehouse_block</th>\n",
       "      <th>Mode_of_Shipment</th>\n",
       "      <th>Product_importance</th>\n",
       "    </tr>\n",
       "  </thead>\n",
       "  <tbody>\n",
       "    <tr>\n",
       "      <th>0</th>\n",
       "      <td>F</td>\n",
       "      <td>Ship</td>\n",
       "      <td>medium</td>\n",
       "    </tr>\n",
       "    <tr>\n",
       "      <th>1</th>\n",
       "      <td>D</td>\n",
       "      <td>Ship</td>\n",
       "      <td>high</td>\n",
       "    </tr>\n",
       "    <tr>\n",
       "      <th>2</th>\n",
       "      <td>F</td>\n",
       "      <td>Ship</td>\n",
       "      <td>low</td>\n",
       "    </tr>\n",
       "    <tr>\n",
       "      <th>3</th>\n",
       "      <td>A</td>\n",
       "      <td>Ship</td>\n",
       "      <td>medium</td>\n",
       "    </tr>\n",
       "    <tr>\n",
       "      <th>4</th>\n",
       "      <td>B</td>\n",
       "      <td>Ship</td>\n",
       "      <td>low</td>\n",
       "    </tr>\n",
       "  </tbody>\n",
       "</table>\n",
       "</div>"
      ],
      "text/plain": [
       "  Warehouse_block Mode_of_Shipment Product_importance\n",
       "0               F             Ship             medium\n",
       "1               D             Ship               high\n",
       "2               F             Ship                low\n",
       "3               A             Ship             medium\n",
       "4               B             Ship                low"
      ]
     },
     "execution_count": 38,
     "metadata": {},
     "output_type": "execute_result"
    }
   ],
   "source": [
    "df_final_test = E_Commerce_test[['Warehouse_block', 'Mode_of_Shipment', 'Product_importance']]\n",
    "df_final_test.head()"
   ]
  },
  {
   "cell_type": "code",
   "execution_count": 39,
   "metadata": {},
   "outputs": [
    {
     "name": "stderr",
     "output_type": "stream",
     "text": [
      "C:\\Users\\agust\\AppData\\Local\\Temp\\ipykernel_18648\\3898529246.py:2: SettingWithCopyWarning: \n",
      "A value is trying to be set on a copy of a slice from a DataFrame.\n",
      "Try using .loc[row_indexer,col_indexer] = value instead\n",
      "\n",
      "See the caveats in the documentation: https://pandas.pydata.org/pandas-docs/stable/user_guide/indexing.html#returning-a-view-versus-a-copy\n",
      "  df_final_test['Warehouse_block'] = df_final_test['Warehouse_block'].astype('category')\n",
      "C:\\Users\\agust\\AppData\\Local\\Temp\\ipykernel_18648\\3898529246.py:3: SettingWithCopyWarning: \n",
      "A value is trying to be set on a copy of a slice from a DataFrame.\n",
      "Try using .loc[row_indexer,col_indexer] = value instead\n",
      "\n",
      "See the caveats in the documentation: https://pandas.pydata.org/pandas-docs/stable/user_guide/indexing.html#returning-a-view-versus-a-copy\n",
      "  df_final_test['Mode_of_Shipment'] = df_final_test['Mode_of_Shipment'].astype('category')\n",
      "C:\\Users\\agust\\AppData\\Local\\Temp\\ipykernel_18648\\3898529246.py:4: SettingWithCopyWarning: \n",
      "A value is trying to be set on a copy of a slice from a DataFrame.\n",
      "Try using .loc[row_indexer,col_indexer] = value instead\n",
      "\n",
      "See the caveats in the documentation: https://pandas.pydata.org/pandas-docs/stable/user_guide/indexing.html#returning-a-view-versus-a-copy\n",
      "  df_final_test['Product_importance'] = df_final_test['Product_importance'].astype('category')\n"
     ]
    }
   ],
   "source": [
    "# Pasamos a 'category' los datos, para que python los interprete de manera mas adecuada.\n",
    "df_final_test['Warehouse_block'] = df_final_test['Warehouse_block'].astype('category')\n",
    "df_final_test['Mode_of_Shipment'] = df_final_test['Mode_of_Shipment'].astype('category')\n",
    "df_final_test['Product_importance'] = df_final_test['Product_importance'].astype('category')"
   ]
  },
  {
   "cell_type": "code",
   "execution_count": 40,
   "metadata": {},
   "outputs": [],
   "source": [
    "# Codificación de variables utilizando One-Hot\n",
    "# Importamos la libreria\n",
    "from sklearn.preprocessing import OneHotEncoder\n",
    "\n",
    "codificador_test = OneHotEncoder()\n",
    "codificador_1_test  = OneHotEncoder()\n",
    "codificador_2_test  = OneHotEncoder()\n",
    "\n",
    "codificacion_test  = codificador_test.fit_transform(df_final_test[['Warehouse_block']])\n",
    "codificacion_1_test  = codificador_1_test.fit_transform(df_final_test[['Mode_of_Shipment']])\n",
    "codificacion_2_test  = codificador_2_test.fit_transform(df_final_test[['Product_importance']])\n",
    "\n",
    "# Creamos el DataFrame codificado.\n",
    "col_mode_of_Shipment_test  = pd.DataFrame(codificacion_1_test.toarray(), columns = codificador_1_test.categories_)\n",
    "col_Warehouse_block_test  = pd.DataFrame(codificacion_test.toarray(), columns = codificador_test.categories_)\n",
    "col_Product_importance_test  = pd.DataFrame(codificacion_2_test.toarray(), columns = codificador_2_test.categories_)\n",
    "\n",
    "df_final_test = pd.concat([df_final_test, col_mode_of_Shipment_test ], axis= 1)\n",
    "df_final_test = pd.concat([df_final_test, col_Warehouse_block_test ], axis= 1)\n",
    "df_final_test = pd.concat([df_final_test, col_Product_importance_test ], axis= 1)\n",
    "\n",
    "# ELiminamos las columnas categoricas.\n",
    "df_final_test.drop(['Warehouse_block'], axis=1, inplace=True)\n",
    "df_final_test.drop(['Mode_of_Shipment'], axis=1, inplace=True)\n",
    "df_final_test.drop(['Product_importance'], axis=1, inplace=True)"
   ]
  },
  {
   "cell_type": "code",
   "execution_count": 41,
   "metadata": {},
   "outputs": [
    {
     "name": "stdout",
     "output_type": "stream",
     "text": [
      "<class 'pandas.core.frame.DataFrame'>\n",
      "RangeIndex: 2000 entries, 0 to 1999\n",
      "Data columns (total 11 columns):\n",
      " #   Column     Non-Null Count  Dtype  \n",
      "---  ------     --------------  -----  \n",
      " 0   (Flight,)  2000 non-null   float64\n",
      " 1   (Road,)    2000 non-null   float64\n",
      " 2   (Ship,)    2000 non-null   float64\n",
      " 3   (A,)       2000 non-null   float64\n",
      " 4   (B,)       2000 non-null   float64\n",
      " 5   (C,)       2000 non-null   float64\n",
      " 6   (D,)       2000 non-null   float64\n",
      " 7   (F,)       2000 non-null   float64\n",
      " 8   (high,)    2000 non-null   float64\n",
      " 9   (low,)     2000 non-null   float64\n",
      " 10  (medium,)  2000 non-null   float64\n",
      "dtypes: float64(11)\n",
      "memory usage: 172.0 KB\n"
     ]
    }
   ],
   "source": [
    "df_final_test.info()"
   ]
  },
  {
   "cell_type": "code",
   "execution_count": 42,
   "metadata": {},
   "outputs": [
    {
     "data": {
      "text/plain": [
       "(2000, 11)"
      ]
     },
     "execution_count": 42,
     "metadata": {},
     "output_type": "execute_result"
    }
   ],
   "source": [
    "# Apreciamos sus dimenciones\n",
    "df_final_test.shape"
   ]
  },
  {
   "cell_type": "code",
   "execution_count": 43,
   "metadata": {},
   "outputs": [],
   "source": [
    "X_train_test = df_final_test[[('Flight',), ('Road',), ('Ship',), ('A',), ('B',), ('C',), ('D',), ('F',), ('high',), ('low',), ('medium',)]]"
   ]
  },
  {
   "cell_type": "code",
   "execution_count": 50,
   "metadata": {},
   "outputs": [
    {
     "name": "stderr",
     "output_type": "stream",
     "text": [
      "c:\\Users\\agust\\AppData\\Local\\Programs\\Python\\Python310\\lib\\site-packages\\sklearn\\neighbors\\_classification.py:237: FutureWarning: Unlike other reduction functions (e.g. `skew`, `kurtosis`), the default behavior of `mode` typically preserves the axis it acts along. In SciPy 1.11.0, this behavior will change: the default value of `keepdims` will become False, the `axis` over which the statistic is taken will be eliminated, and the value None will no longer be accepted. Set `keepdims` to True or False to avoid this warning.\n",
      "  mode, _ = stats.mode(_y[neigh_ind, k], axis=1)\n"
     ]
    }
   ],
   "source": [
    "# Sacamos los valores a predecir\n",
    "pred = KNeigh.predict(X_train_test)"
   ]
  },
  {
   "cell_type": "code",
   "execution_count": 51,
   "metadata": {},
   "outputs": [],
   "source": [
    "# Descargamos los datos a un archivo.csv\n",
    "pred = pd.DataFrame(pred, columns=['pred'])\n",
    "pred.to_csv('AgustinBraida.csv')"
   ]
  }
 ],
 "metadata": {
  "kernelspec": {
   "display_name": "Python 3.10.4 64-bit",
   "language": "python",
   "name": "python3"
  },
  "language_info": {
   "codemirror_mode": {
    "name": "ipython",
    "version": 3
   },
   "file_extension": ".py",
   "mimetype": "text/x-python",
   "name": "python",
   "nbconvert_exporter": "python",
   "pygments_lexer": "ipython3",
   "version": "3.10.4"
  },
  "orig_nbformat": 4,
  "vscode": {
   "interpreter": {
    "hash": "63413d40248b15c5e3979e4e9ac9f50870b25d2b4b7e5c66b4da92bd9f0fa5ed"
   }
  }
 },
 "nbformat": 4,
 "nbformat_minor": 2
}
